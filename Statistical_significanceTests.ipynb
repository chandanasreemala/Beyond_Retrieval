{
  "nbformat": 4,
  "nbformat_minor": 0,
  "metadata": {
    "colab": {
      "provenance": []
    },
    "kernelspec": {
      "name": "python3",
      "display_name": "Python 3"
    },
    "language_info": {
      "name": "python"
    }
  },
  "cells": [
    {
      "cell_type": "code",
      "source": [
        "from google.colab import drive\n",
        "drive.mount('/content/drive')"
      ],
      "metadata": {
        "id": "huNTs10LZjnq"
      },
      "execution_count": null,
      "outputs": []
    },
    {
      "cell_type": "code",
      "source": [
        "import pandas as pd\n",
        "from scipy import stats\n",
        "from scipy.stats import wilcoxon\n",
        "from mlxtend.evaluate import permutation_test\n",
        "from statsmodels.stats.multitest import fdrcorrection"
      ],
      "metadata": {
        "id": "Q65P_2cZQUfm"
      },
      "execution_count": null,
      "outputs": []
    },
    {
      "cell_type": "code",
      "source": [
        "def read_file(file_name):\n",
        "  folder_path = \"/content/drive/MyDrive/Statistical_Significance_RAG\"\n",
        "\n",
        "\n",
        "  path = folder_path + \"/\" + file_name\n",
        "  # Read the CSV safely\n",
        "  df = pd.read_csv(\n",
        "    path\n",
        "  )\n",
        "  print(\"Dataset size:\", len(df))\n",
        "  df.columns = df.columns.str.lower()\n",
        "  # Convert all column names to lowercase\n",
        "  df.columns = df.columns.str.replace('rerank_', '', regex=False)\n",
        "\n",
        "\n",
        "  return df"
      ],
      "metadata": {
        "id": "NRDMkJf7VLgt"
      },
      "execution_count": null,
      "outputs": []
    },
    {
      "cell_type": "code",
      "source": [
        "def wilcoxon_test(list1, list2, alpha):\n",
        "  stat, p = wilcoxon(list1, list2)\n",
        "  # Apply Benjamini-Hochberg correction (FDR control)\n",
        "  #reject, pval_corrected = fdrcorrection(p.flatten(), alpha=0.05, method='indep')\n",
        "\n",
        "  print(f\"P-value: {p:.4f}\")\n",
        "  if p < alpha:\n",
        "    print(\"=> Significant difference (reject H0)\")\n",
        "  else:\n",
        "    print(\"=> No significant difference (fail to reject H0)\")\n",
        "\n",
        "  return p"
      ],
      "metadata": {
        "id": "zB2sZAklR5Sd"
      },
      "execution_count": null,
      "outputs": []
    },
    {
      "cell_type": "code",
      "source": [
        "def fdr_correction(pvals, alpha):\n",
        "  #pvals = [p_map3, p_map5, p_map10, p_ndcg3, p_ndcg5, p_ndcg10]\n",
        "  reject, pvals_corrected = fdrcorrection(pvals, alpha, method='indep')\n",
        "\n",
        "  print(\"Reject null hypotheses:\", reject)\n",
        "  print(\"FDR-adjusted p-values:\", pvals_corrected)"
      ],
      "metadata": {
        "id": "QqHUuXXKXhoq"
      },
      "execution_count": null,
      "outputs": []
    },
    {
      "cell_type": "code",
      "source": [
        "def apply_statistical_significance_test(df, df2, alpha):\n",
        "  metrics_tocompare = [\"map@3\", \"map@3\", \"map@5\", \"ndcg@3\", \"ndcg@3\", \"ndcg@5\"]\n",
        "  metrics_tocompare2 = [\"map@5\", \"map@10\", \"map@10\", \"ndcg@5\", \"ndcg@10\", \"ndcg@10\"]\n",
        "\n",
        "  pvals = []\n",
        "  for curr_metric in metrics_tocompare:\n",
        "    list1 = df [curr_metric]\n",
        "\n",
        "  for curr_metric in metrics_tocompare2:\n",
        "    list2 = df2 [curr_metric]\n",
        "\n",
        "    print(curr_metric)\n",
        "    p = wilcoxon_test(list1, list2, alpha)\n",
        "    print(\"*****\")\n",
        "\n",
        "    pvals.append(p)\n",
        "\n",
        "  print(\"Apply fdr_correction\")\n",
        "  fdr_correction(pvals,alpha)"
      ],
      "metadata": {
        "id": "AGwXoeAUUofp"
      },
      "execution_count": null,
      "outputs": []
    },
    {
      "cell_type": "code",
      "source": [
        "filename = \"hotpotqa_hybrid_linear_with_rerank_minilm_alpha_0.3_beta_0.85_final_metrics.csv\"\n",
        "filename2 = \"hotpotqa_hybrid_linear_with_rerank_minilm_alpha_0.3_beta_0.85_final_metrics.csv\"\n",
        "\n",
        "df = read_file(filename)\n",
        "df2 = read_file(filename2)\n",
        "\n",
        "alpha = 0.05\n",
        "apply_statistical_significance_test(df, df2, alpha)"
      ],
      "metadata": {
        "id": "TePfZRCgXKjl"
      },
      "execution_count": null,
      "outputs": []
    },
    {
      "cell_type": "code",
      "source": [],
      "metadata": {
        "id": "B4mY0IHzXOHJ"
      },
      "execution_count": null,
      "outputs": []
    },
    {
      "cell_type": "code",
      "source": [],
      "metadata": {
        "id": "RiViSNx0XOJX"
      },
      "execution_count": null,
      "outputs": []
    },
    {
      "cell_type": "code",
      "source": [
        "def check_permutation_test(list1, list2, alpha):\n",
        "  #confirm with permutation test\n",
        "  p_perm = permutation_test(list1, list2, method='approximate', num_rounds=10000)\n",
        "\n",
        "  print(f\"P-value: {p_perm:.4f}\")\n",
        "  if p_perm < 0.05:\n",
        "    print(\"=> Significant difference (reject H0)\")\n",
        "  else:\n",
        "    print(\"=> No significant difference (fail to reject H0)\")"
      ],
      "metadata": {
        "id": "QncWmwv_TzuS"
      },
      "execution_count": null,
      "outputs": []
    },
    {
      "cell_type": "code",
      "source": [
        "def t_test(data1, data2):\n",
        "  # Perform two-tailed independent t-test\n",
        "  t_stat, p_value = stats.ttest_ind(data1, data2)\n",
        "\n",
        "  print(\"t-statistic:\", t_stat)\n",
        "  print(\"p-value:\", p_value)\n",
        "\n",
        "  # Check significance\n",
        "  alpha = 0.05\n",
        "  if p_value < alpha:\n",
        "    print(\"Reject the null hypothesis: groups are significantly different\")\n",
        "  else:\n",
        "    print(\"Fail to reject the null hypothesis: no significant difference\")"
      ],
      "metadata": {
        "id": "C_xcS7afWMxo"
      },
      "execution_count": null,
      "outputs": []
    },
    {
      "cell_type": "code",
      "source": [
        "def check_normality(data):\n",
        "  stat, p = stats.shapiro(data)\n",
        "  print(\"Shapiro-Wilk test statistic:\", stat)\n",
        "  print(\"p-value:\", p)\n",
        "\n",
        "  alpha = 0.05\n",
        "  if p > alpha:\n",
        "    print(\"Fail to reject H₀: data looks normally distributed\")\n",
        "  else:\n",
        "    print(\"Reject H₀: data is not normally distributed\")"
      ],
      "metadata": {
        "id": "cqSP4rZpWOlO"
      },
      "execution_count": null,
      "outputs": []
    }
  ]
}